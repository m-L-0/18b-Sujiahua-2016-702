{
 "cells": [
  {
   "cell_type": "code",
   "execution_count": 8,
   "metadata": {},
   "outputs": [],
   "source": [
    "from sklearn import datasets\n",
    "from sklearn.datasets import load_iris \n",
    "import numpy as np\n",
    "import matplotlib.pyplot as plt\n",
    "from xgboost.sklearn import XGBClassifier\n",
    "from sklearn.model_selection import cross_val_score"
   ]
  },
  {
   "cell_type": "code",
   "execution_count": 9,
   "metadata": {
    "scrolled": true
   },
   "outputs": [
    {
     "name": "stdout",
     "output_type": "stream",
     "text": [
      "(150, 4)\n",
      "(150,)\n",
      "<class 'sklearn.utils.Bunch'>\n",
      "<class 'numpy.ndarray'>\n"
     ]
    }
   ],
   "source": [
    "# 从sklearn的数据集中获取iris数据\n",
    "iris =load_iris()\n",
    " # 洗乱数据\n",
    "indices = np.arange(len(iris.data))\n",
    "np.random.shuffle(indices)\n",
    " \n",
    "# 查看数据的形状\n",
    "print(iris.data.shape)\n",
    "print(iris.target.shape)\n",
    "print(type(iris))\n",
    "print(type(iris.data))\n",
    "# 分割训练数据集和测试数据集\n",
    "split_index = int(len(iris.data) * 0.2)\n",
    " \n",
    "data = iris.data[indices]\n",
    "target = iris.target[indices]\n",
    " \n",
    "tr_value = data[:-split_index]\n",
    "tr_target = target[:-split_index]\n",
    " \n",
    "te_value = data[-split_index:]\n",
    "te_target = target[-split_index:]\n"
   ]
  },
  {
   "cell_type": "code",
   "execution_count": 10,
   "metadata": {},
   "outputs": [],
   "source": [
    "def knn(tr_value, tr_target, te_value, te_target, k):\n",
    "    hit = 0\n",
    "    for i in range(len(te_value)):\n",
    "        # 利用numpy提供的大矩阵运算简洁地计算当前数据与所有测试数据之间的欧氏距离\n",
    "        one2n = np.tile(te_value[i], (int(len(tr_value)), 1))\n",
    "        distance = (((tr_value - one2n) ** 2).sum(axis=1)) ** 0.5\n",
    " \n",
    "        count = {}\n",
    "        # 根据距离从小到大排列训练数据的下标\n",
    "        sorted_distance = distance.argsort()\n",
    "        # 统计前k个训练数据中哪个标签出现次数最多\n",
    "        # print(sorted_distance)\n",
    "        for j in range(k):\n",
    "            # print(distance[sorted_distance[j]])\n",
    "            tmp_tag = tr_target[sorted_distance[j]]\n",
    "            # print(tmp_tag)\n",
    "            if tmp_tag in count.keys():\n",
    "                count[tmp_tag] += 1\n",
    "            else:\n",
    "                count[tmp_tag] = 1\n",
    " \n",
    "        # 排序后选取出现次数最多的标签作为当前测试数据的预测结果\n",
    "        tag_count = sorted(count.items(), key=lambda x: x[1], reverse=True)\n",
    "        print(te_target[i], tag_count[0][0])\n",
    "        if te_target[i] == tag_count[0][0]:\n",
    "            hit += 1\n",
    "\n",
    "    accuracy = hit / len(te_target)\n",
    "    print('accuracy:%f\\n' % accuracy)\n"
   ]
  },
  {
   "cell_type": "code",
   "execution_count": 11,
   "metadata": {},
   "outputs": [
    {
     "name": "stdout",
     "output_type": "stream",
     "text": [
      "0 0\n",
      "0 0\n",
      "0 0\n",
      "0 0\n",
      "0 0\n",
      "0 0\n",
      "0 0\n",
      "1 1\n",
      "0 0\n",
      "0 0\n",
      "0 0\n",
      "2 2\n",
      "1 1\n",
      "2 2\n",
      "1 1\n",
      "2 2\n",
      "1 1\n",
      "1 1\n",
      "2 2\n",
      "2 2\n",
      "1 1\n",
      "2 2\n",
      "0 0\n",
      "0 0\n",
      "1 1\n",
      "2 2\n",
      "1 1\n",
      "1 1\n",
      "1 1\n",
      "0 0\n",
      "accuracy:1.000000\n",
      "\n"
     ]
    }
   ],
   "source": [
    "knn(tr_value, tr_target, te_value, te_target, 8)"
   ]
  },
  {
   "cell_type": "code",
   "execution_count": 12,
   "metadata": {},
   "outputs": [
    {
     "name": "stdout",
     "output_type": "stream",
     "text": [
      "1\n",
      "2\n",
      "3\n",
      "4\n",
      "5\n",
      "6\n",
      "7\n",
      "8\n",
      "9\n",
      "10\n",
      "11\n",
      "12\n",
      "13\n",
      "14\n",
      "15\n",
      "16\n",
      "17\n",
      "18\n",
      "19\n",
      "20\n",
      "21\n",
      "22\n",
      "23\n",
      "24\n",
      "25\n",
      "26\n",
      "27\n",
      "28\n",
      "29\n",
      "[0.9412463768115942, 0.9495797101449275, 0.9408840579710145, 0.9408840579710145, 0.9408840579710145, 0.9408840579710145, 0.9408840579710145, 0.9408840579710145, 0.9408840579710145, 0.9408840579710145, 0.9408840579710145, 0.9408840579710145, 0.9408840579710145, 0.9408840579710145, 0.9408840579710145, 0.9408840579710145, 0.9408840579710145, 0.9408840579710145, 0.9408840579710145, 0.9408840579710145, 0.9408840579710145, 0.9408840579710145, 0.9408840579710145, 0.9408840579710145, 0.9408840579710145, 0.9408840579710145, 0.9408840579710145, 0.9408840579710145, 0.9408840579710145]\n"
     ]
    },
    {
     "data": {
      "image/png": "[encoded data removed]",
      "text/plain": [
       "<matplotlib.figure.Figure at 0x1a1643d3ba8>"
      ]
     },
     "metadata": {},
     "output_type": "display_data"
    }
   ],
   "source": [
    "k_range = range(1,30)\n",
    "k_scores = []\n",
    "for k in k_range:\n",
    "    print(k)\n",
    "    clf = XGBClassifier(learning_rate= 0.28, min_child_weight=0.7, max_depth=21,\n",
    "                        gamma=0.2, n_estimators = k ,seed=1000)\n",
    "\n",
    "    X_Train = tr_value\n",
    "    Y_Train = tr_target\n",
    "\n",
    "    X, y = (X_Train, Y_Train)\n",
    "    \n",
    "    #交叉验证，循环跑，cv是每次循的次数\n",
    "    scores = cross_val_score(clf, X, y, cv=5, scoring='accuracy')\n",
    "    #得到平均值\n",
    "    k_scores.append(scores.mean())\n",
    "\n",
    "print(k_scores)\n",
    "#画出图像\n",
    "plt.plot(k_range, k_scores)\n",
    "plt.xlabel(\"Value of K for KNN\")\n",
    "plt.ylabel(\"Cross validated accuracy\")\n",
    "plt.show()"
   ]
  },
  {
   "cell_type": "code",
   "execution_count": null,
   "metadata": {},
   "outputs": [],
   "source": []
  }
 ],
 "metadata": {
  "kernelspec": {
   "display_name": "Python 3",
   "language": "python",
   "name": "python3"
  }
 },
 "nbformat": 4,
 "nbformat_minor": 2
}
