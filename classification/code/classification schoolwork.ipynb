{
 "cells": [
  {
   "cell_type": "code",
   "execution_count": null,
   "metadata": {},
   "outputs": [],
   "source": [
    "\n",
    "import matplotlib.pyplot as plt  \n",
    "import numpy as np\n",
    "import scipy.io as sio\n",
    "import spectral\n",
    "import os\n",
    "from sklearn.model_selection import KFold\n",
    "from sklearn.model_selection import train_test_split\n",
    "import numpy as np\n",
    "from sklearn import svm\n",
    "from sklearn.svm import SVC\n",
    "from sklearn import metrics\n",
    "from sklearn import preprocessing\n",
    "import pandas as pd\n",
    "import re\n",
    "from sklearn.metrics import accuracy_score\n",
    "from sklearn.model_selection import GridSearchCV"
   ]
  },
  {
   "cell_type": "code",
   "execution_count": 17,
   "metadata": {},
   "outputs": [
    {
     "data": {
      "text/plain": [
       "array([[3693, 4256, 4503, ..., 1050, 1024, 1024],\n",
       "       [2589, 4372, 4334, ..., 1050, 1024, 1019],\n",
       "       [3693, 4128, 4507, ..., 1045, 1029, 1019],\n",
       "       ...,\n",
       "       [3192, 4235, 4313, ..., 1026, 1023, 1000],\n",
       "       [3192, 4111, 4313, ..., 1030, 1014, 1008],\n",
       "       [3192, 4115, 4313, ..., 1031, 1014, 1013]], dtype=uint16)"
      ]
     },
     "execution_count": 17,
     "metadata": {},
     "output_type": "execute_result"
    }
   ],
   "source": [
    "\n",
    "a=[]\n",
    "path=\"./train/\"\n",
    "for i in os.listdir(path):\n",
    "    A=sio.loadmat(path+i)[i.split('.')[0]]\n",
    "    a.append(A)\n",
    "s=np.vstack((a[0],a[1],a[2],a[3],a[4],a[5],a[6],a[7],a[8]))\n",
    "s"
   ]
  },
  {
   "cell_type": "code",
   "execution_count": 18,
   "metadata": {},
   "outputs": [],
   "source": [
    "label=[]\n",
    "num=s.shape[0]\n",
    "for i in range(num):\n",
    "    label.append(i)\n",
    "i += 1\n",
    "data=s\n",
    "data = data.reshape((-1,200))    \n",
    "label = np.array(label,dtype=np.int32)"
   ]
  },
  {
   "cell_type": "code",
   "execution_count": 19,
   "metadata": {},
   "outputs": [],
   "source": [
    "X_train,X_valid,y_train,y_valid = train_test_split(data,label,test_size=0.25,shuffle=True)"
   ]
  },
  {
   "cell_type": "code",
   "execution_count": null,
   "metadata": {},
   "outputs": [],
   "source": [
    "svc = SVC(C=1.0,gamma=0.125,class_weight='balanced')  #构建分类器，设定参数\n",
    "svc.fit(X_train,y_train)\n",
    "y_pred = svc.predict(X_valid)"
   ]
  },
  {
   "cell_type": "code",
   "execution_count": null,
   "metadata": {},
   "outputs": [],
   "source": [
    "test_data = sio.loadmat(\"./data_test_final.mat\")['data_test_final']\n",
    "test_data = np.array(test_data, dtype=np.float64)\n",
    "x_test = scaler.transform(test_data)\n",
    "y_test = svc.predict(x_test)"
   ]
  },
  {
   "cell_type": "code",
   "execution_count": null,
   "metadata": {},
   "outputs": [],
   "source": [
    "\n",
    "data = pd.DataFrame(y_test)\n",
    "data.to_csv(\"./test_labels.csv\")"
   ]
  }
 ],
 "metadata": {
  "kernelspec": {
   "display_name": "Python 3",
   "language": "python",
   "name": "python3"
  },
  "language_info": {
   "codemirror_mode": {
    "name": "ipython",
    "version": 3
   },
   "file_extension": ".py",
   "mimetype": "text/x-python",
   "name": "python",
   "nbconvert_exporter": "python",
   "pygments_lexer": "ipython3",
   "version": "3.6.4"
  }
 },
 "nbformat": 4,
 "nbformat_minor": 2
}
